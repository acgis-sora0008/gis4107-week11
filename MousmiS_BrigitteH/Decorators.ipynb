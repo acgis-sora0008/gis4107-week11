{
 "cells": [
  {
   "cell_type": "markdown",
   "metadata": {},
   "source": [
    "# Decorators in Python"
   ]
  },
  {
   "cell_type": "markdown",
   "metadata": {},
   "source": [
    "## Functions are objects too\n",
    "\n",
    "In Python, functions are \"first class objects\". That is, they can be:\n",
    "- created\n",
    "- destroyed\n",
    "- passed to a function\n",
    "- returned as a value\n",
    "- assigned variable names"
   ]
  },
  {
   "cell_type": "code",
   "execution_count": 3,
   "metadata": {},
   "outputs": [
    {
     "name": "stdout",
     "output_type": "stream",
     "text": [
      "func\n"
     ]
    },
    {
     "ename": "NameError",
     "evalue": "name 'func' is not defined",
     "output_type": "error",
     "traceback": [
      "\u001b[1;31m---------------------------------------------------------------------------\u001b[0m",
      "\u001b[1;31mNameError\u001b[0m                                 Traceback (most recent call last)",
      "\u001b[1;32mC:\\Temp/ipykernel_2572/2090968433.py\u001b[0m in \u001b[0;36m<module>\u001b[1;34m\u001b[0m\n\u001b[0;32m      5\u001b[0m \u001b[0mfunc\u001b[0m\u001b[1;33m(\u001b[0m\u001b[1;33m)\u001b[0m\u001b[1;33m\u001b[0m\u001b[1;33m\u001b[0m\u001b[0m\n\u001b[0;32m      6\u001b[0m \u001b[1;32mdel\u001b[0m \u001b[0mfunc\u001b[0m\u001b[1;33m\u001b[0m\u001b[1;33m\u001b[0m\u001b[0m\n\u001b[1;32m----> 7\u001b[1;33m \u001b[0mfunc\u001b[0m\u001b[1;33m(\u001b[0m\u001b[1;33m)\u001b[0m\u001b[1;33m\u001b[0m\u001b[1;33m\u001b[0m\u001b[0m\n\u001b[0m",
      "\u001b[1;31mNameError\u001b[0m: name 'func' is not defined"
     ]
    }
   ],
   "source": [
    "# Created and destroyed\n",
    "def func():\n",
    "    print('func')\n",
    "\n",
    "func()\n",
    "del func\n",
    "func()"
   ]
  },
  {
   "cell_type": "code",
   "execution_count": 13,
   "metadata": {},
   "outputs": [
    {
     "name": "stdout",
     "output_type": "stream",
     "text": [
      "func\n",
      "func\n"
     ]
    }
   ],
   "source": [
    "# Passed to a function\n",
    "def wrapper(x):\n",
    "    x()\n",
    "    some_func()\n",
    "\n",
    "def new_func():\n",
    "    wrapper(some_func)\n",
    "\n",
    "def some_func():\n",
    "    print('func')\n",
    "\n",
    "new_func()\n",
    "# wrapper(some_func)"
   ]
  },
  {
   "cell_type": "code",
   "execution_count": 21,
   "metadata": {},
   "outputs": [],
   "source": [
    "def dumb(x):\n",
    "    return x\n",
    "\n",
    "x = 1\n",
    "x = dumb(1)"
   ]
  },
  {
   "cell_type": "code",
   "execution_count": 26,
   "metadata": {},
   "outputs": [
    {
     "name": "stdout",
     "output_type": "stream",
     "text": [
      "<function func at 0x00000170E05F0820>\n",
      "func\n"
     ]
    }
   ],
   "source": [
    "# Returned as a value and assigned to variable names\n",
    "def wrapper(x):\n",
    "    return x\n",
    "\n",
    "def func():\n",
    "    print('func')\n",
    "\n",
    "f = wrapper(func)\n",
    "print(f)\n",
    "f()"
   ]
  },
  {
   "cell_type": "code",
   "execution_count": 28,
   "metadata": {},
   "outputs": [
    {
     "name": "stdout",
     "output_type": "stream",
     "text": [
      "In wrapper\n",
      "func\n"
     ]
    }
   ],
   "source": [
    "# Can be nested in other functions\n",
    "def decorator(x):\n",
    "    def wrapper():\n",
    "        print('In wrapper')\n",
    "        x()\n",
    "    return wrapper\n",
    "\n",
    "def func():\n",
    "    print('func')\n",
    "\n",
    "d = decorator(func)    # d will be associated with wrapper\n",
    "d()\n",
    "func = decorator(func)\n",
    "func()"
   ]
  },
  {
   "cell_type": "markdown",
   "metadata": {},
   "source": [
    "## Function Decorators\n",
    "\n",
    "### Why\n",
    "Allows a user to add new functionality to an existing function without modifying it (e.g. timing, logging)\n",
    "\n",
    "### What\n",
    "\n",
    "A decorator is a function that \n",
    "- takes a function as an argument (e.g. func)\n",
    "- wraps the call to func inside another function (e.g. wrapper)\n",
    "- returns wrapper\n",
    "\n",
    "### How\n",
    "By assigning func to a call to decorator, func is replaced with the wrapper\n",
    "```\n",
    "func = decorator(func)\n",
    "```\n",
    "Calling the decorated func will execute statements in func and in wrapper.\n",
    "This means wrapper functionality is added to any function passed to the decorator."
   ]
  },
  {
   "cell_type": "code",
   "execution_count": 30,
   "metadata": {},
   "outputs": [
    {
     "name": "stdout",
     "output_type": "stream",
     "text": [
      "Before: <function print_this at 0x00000170E13FB310>\n",
      "After: <function decorator.<locals>.wrapper at 0x00000170E148A3A0>\n",
      "Wrapping print_this \n",
      "This\n"
     ]
    }
   ],
   "source": [
    "def decorator(func):\n",
    "    def wrapper():\n",
    "        print(f'Wrapping {func.__name__} ')\n",
    "        func()\n",
    "    return wrapper\n",
    "\n",
    "def print_this():\n",
    "    print('This')\n",
    "\n",
    "print(f'Before: {print_this}')      # Show the name of the print_this function before\n",
    "                                    # the call to the wrapper\n",
    "print_this = decorator(print_this)  # Replace print_this with wrapper returned by decorator\n",
    "\n",
    "print(f'After: {print_this}')       # Show the name of the print_this function after\n",
    "                                    # the call to the wrapper\n",
    "print_this()"
   ]
  },
  {
   "cell_type": "markdown",
   "metadata": {},
   "source": [
    "### @ symbol\n",
    "Python has a special syntax to replace the statement\n",
    "\n",
    "func = decorator(func)\n",
    "\n",
    "Add @<decorator_name> above any function definition (e.g. @decorator)"
   ]
  },
  {
   "cell_type": "code",
   "execution_count": 31,
   "metadata": {},
   "outputs": [
    {
     "name": "stdout",
     "output_type": "stream",
     "text": [
      "Wrapping print_this \n",
      "This\n",
      "Wrapping print_that \n",
      "That\n"
     ]
    }
   ],
   "source": [
    "@decorator\n",
    "def print_this():\n",
    "    print('This')\n",
    "\n",
    "@decorator\n",
    "def print_that():\n",
    "    print('That')\n",
    "\n",
    "print_this()\n",
    "print_that()"
   ]
  },
  {
   "cell_type": "code",
   "execution_count": 33,
   "metadata": {},
   "outputs": [
    {
     "name": "stdout",
     "output_type": "stream",
     "text": [
      "demo:  2.005791187286377 sec\n"
     ]
    }
   ],
   "source": [
    "import time\n",
    "\n",
    "def time_it(func):\n",
    "    def inner():\n",
    "        start = time.time()\n",
    "        func()\n",
    "        print(f'{func.__name__}:  {time.time() - start} sec')\n",
    "    return inner\n",
    "\n",
    "def demo():\n",
    "    time.sleep(2)\n",
    "\n",
    "def demo2():\n",
    "    time.sleep(1)\n",
    "\n",
    "demo = time_it(demo)\n",
    "demo()"
   ]
  },
  {
   "cell_type": "code",
   "execution_count": 34,
   "metadata": {},
   "outputs": [
    {
     "name": "stdout",
     "output_type": "stream",
     "text": [
      "demo:  2.0135467052459717 sec\n"
     ]
    }
   ],
   "source": [
    "@time_it\n",
    "def demo():\n",
    "    time.sleep(2)\n",
    "\n",
    "demo()"
   ]
  },
  {
   "cell_type": "markdown",
   "metadata": {},
   "source": [
    "### Decorator with arguments\n",
    "\n",
    "The call to the decorated function is to the wrapper function so:\n",
    "- wrapper will have the parameters matching the wrapped function\n",
    "- the arguments will be passed to the wrapped function"
   ]
  },
  {
   "cell_type": "code",
   "execution_count": 35,
   "metadata": {},
   "outputs": [
    {
     "name": "stdout",
     "output_type": "stream",
     "text": [
      "args: 1, 2\n",
      "a = 1, b = 2\n"
     ]
    }
   ],
   "source": [
    "def show_args(func):\n",
    "    def wrapper(a, b):\n",
    "        print(f'args: {a}, {b}')\n",
    "        func(a, b)\n",
    "    return wrapper\n",
    "        \n",
    "def demo(a, b):\n",
    "    print(f'a = {a}, b = {b}')\n",
    "\n",
    "demo = show_args(demo)   # Replace demo function with wrapper function\n",
    "                         # returned by show_args decorator\n",
    "demo(1, 2)               # Call to decorated function"
   ]
  },
  {
   "cell_type": "code",
   "execution_count": null,
   "metadata": {},
   "outputs": [],
   "source": [
    "@show_args\n",
    "def demo(a, b):\n",
    "    print(f'a = {a}, b = {b}')\n",
    "\n",
    "demo(1, 2)"
   ]
  },
  {
   "cell_type": "markdown",
   "metadata": {},
   "source": [
    "### Decorators for functions with variable number of arguments\n",
    "\n",
    "- *args parameter is used for variable number of postional arguments\n",
    "- **kwargs parameeter is used for variable number of keyword arguments\n",
    "- As with all Python function calls, positional must precede keyword arguments"
   ]
  },
  {
   "cell_type": "code",
   "execution_count": null,
   "metadata": {},
   "outputs": [],
   "source": [
    "def show_args(func):\n",
    "    def wrapper(*args, **kwargs):\n",
    "        func(*args, **kwargs)\n",
    "        args = [a for a in args]\n",
    "        kwargs = {k:v for k, v in kwargs.items()}\n",
    "        print(f'*args: {args}; **kwargs: {kwargs}')\n",
    "        \n",
    "    return wrapper\n",
    "        \n",
    "@show_args\n",
    "def no_args():\n",
    "    print('no_args')\n",
    "\n",
    "no_args()\n",
    "\n",
    "@show_args\n",
    "def positional(a, b):\n",
    "    print('positional')\n",
    "\n",
    "positional(1, 2)\n",
    "\n",
    "@show_args\n",
    "def keyword(a, b):\n",
    "    print('keyword')\n",
    "\n",
    "keyword(b=1, a=2)\n",
    "\n",
    "@show_args\n",
    "def postional_and_keyword(a, b, c, d):\n",
    "    print('postional_and_keyword')\n",
    "\n",
    "postional_and_keyword(1, 2, d=4, c=3)"
   ]
  },
  {
   "cell_type": "markdown",
   "metadata": {},
   "source": [
    "### Decorating functions with return values\n",
    "\n",
    "The call to the decorated function is to the wrapper function so wrapper function will return the value returned by the wrapped function\n",
    "  "
   ]
  },
  {
   "cell_type": "code",
   "execution_count": null,
   "metadata": {},
   "outputs": [],
   "source": [
    "def return_args(func):\n",
    "    def wrapper(a, b):\n",
    "        print(f'args: {a}, {b}')\n",
    "        return func(a, b)\n",
    "    return wrapper\n",
    "        \n",
    "def demo(a, b):\n",
    "    return f'a = {a}, b = {b}'\n",
    "\n",
    "demo = return_args(demo)    # Replace demo function with wrapper function\n",
    "                            # returned by return_args decorator\n",
    "print(demo(1, 2))           # Call to decorated function"
   ]
  },
  {
   "cell_type": "markdown",
   "metadata": {},
   "source": [
    "### Using wraps decorator from functools to get name of wrapped function\n",
    "\n",
    "Provides the name of the wrapped function rather than the wrapper in a decorator"
   ]
  },
  {
   "cell_type": "code",
   "execution_count": null,
   "metadata": {},
   "outputs": [],
   "source": [
    "def decorator(func):\n",
    "    def wrapper():\n",
    "        print(f'Wrapping {func.__name__} ')\n",
    "        func()\n",
    "    return wrapper\n",
    "\n",
    "def print_this():\n",
    "    print('This')\n",
    "\n",
    "print(f'Before: {print_this}')      # Show the name of the print_this function before\n",
    "                                    # the call to the wrapper\n",
    "print_this = decorator(print_this)  # Replace print_this with wrapper returned by decorator\n",
    "\n",
    "print(f'After: {print_this}')       # Show the name of the print_this function after\n",
    "                                    # the call to the wrapper\n",
    "print_this()"
   ]
  },
  {
   "cell_type": "code",
   "execution_count": null,
   "metadata": {},
   "outputs": [],
   "source": [
    "from functools import wraps\n",
    "def decorator(func):\n",
    "    @wraps(func)\n",
    "    def wrapper():\n",
    "        print(f'Wrapping {func.__name__} ')\n",
    "        func()\n",
    "    return wrapper\n",
    "\n",
    "def print_this():\n",
    "    print('This')\n",
    "\n",
    "print(f'Before: {print_this}')      # Show the name of the print_this function before\n",
    "                                    # the call to the wrapper\n",
    "print_this = decorator(print_this)  # Replace print_this with wrapper returned by decorator\n",
    "\n",
    "print(f'After: {print_this}')       # Show the name of the print_this function after\n",
    "                                    # the call to the wrapper\n",
    "print_this()"
   ]
  }
 ],
 "metadata": {
  "interpreter": {
   "hash": "9d4d13413893c4bfd3f33a06be963113902f9dc625139b7f3745ebaaa1725978"
  },
  "kernelspec": {
   "display_name": "Python 3.9.5 64-bit ('gis4107': conda)",
   "language": "python",
   "name": "python3"
  },
  "language_info": {
   "codemirror_mode": {
    "name": "ipython",
    "version": 3
   },
   "file_extension": ".py",
   "mimetype": "text/x-python",
   "name": "python",
   "nbconvert_exporter": "python",
   "pygments_lexer": "ipython3",
   "version": "3.9.5"
  },
  "orig_nbformat": 4
 },
 "nbformat": 4,
 "nbformat_minor": 2
}
